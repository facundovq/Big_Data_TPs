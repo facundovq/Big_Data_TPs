{
 "cells": [
  {
   "cell_type": "markdown",
   "metadata": {
    "collapsed": true,
    "id": "Dh8MkXaG-c9Y"
   },
   "source": [
    "# Curso de Big Data\n",
    "\n",
    "## Trabajo Práctico 3\n",
    "\n",
    "### Samuel Arispe, Gonzalo Ochoa y Facundo Valle Quintana"
   ]
  },
  {
   "cell_type": "markdown",
   "metadata": {
    "id": "RhBlm6mZ-c9e"
   },
   "source": [
    "### Reglas de formato y presentación\n",
    "- El trabajo debe estar bien comentado (utilizando #) para que el código sea fácil de entender por sus compañeros y profesores.\n",
    "\n",
    "- El mismo debe ser completado en este Jupyter Notebook y entregado como tal, es decir en un archivo .ipynb\n"
   ]
  },
  {
   "cell_type": "markdown",
   "metadata": {
    "id": "ZEjGaa4U-c9g"
   },
   "source": [
    "### Fecha de entrega:\n",
    "Domingo 5 de noviembre a las 23:59hs\n",
    "\n",
    "### Contenidos:\n",
    "\n",
    "\n",
    "Analizar el problema del no reporte de ingresos en las encuestas de hogares y cómo eso afecta la medición de la tasa de pobreza. Se profundizará en el análisis de esta temática con los nuevos métodos vistos en clase para identificar individuos sin reporte de ingresos."
   ]
  },
  {
   "cell_type": "markdown",
   "metadata": {
    "id": "N9TU2y7E-c9h"
   },
   "source": [
    "### Modalidad de entrega\n",
    "- Al finalizar el trabajo práctico deben hacer un último <i>commit</i> en su repositorio de GitHub con el mensaje “Entrega final del tp”.\n",
    "\n",
    "- Asegurense de haber creado una carpeta llamada TP3. Deben entregar el código (jupyter notebook).\n",
    "\n",
    "- También deben completar el link de su repositorio -para que pueda ser clonado y corregido- en la siguiente <a href=\"https://docs.google.com/spreadsheets/d/1v8Sv2TSzpK6mxjm3mmdnhmkk0qiyGFNj/edit#gid=1820558252\">google sheet</a>\n",
    "\n",
    "- La última versión en el repositorio es la que será evaluada. Por lo que es importante que:\n",
    "    - No completen la google sheet hasta no haber terminado y estar seguros de que han hecho el <i>commit y push</i> a la versión final que quieren entregar. Debido a que se pueden tomar hasta 3 días de extensión a lo largo del curso, no se  corregirán sus tareas hasta no ver el link en la google sheet.\\\n",
    "    \n",
    "    - No hagan nuevos <i>push</i> despues de haber entregado su versión final. Esto generaría confusión acerca de que versión es la que quieren que se les corrija."
   ]
  },
  {
   "cell_type": "markdown",
   "metadata": {
    "id": "ZXbrPraa-c9i"
   },
   "source": [
    "### Reglas de formato y presentación\n",
    "\n",
    "- El trabajo se debe entregar como Jupyter Notebook. Se espera una buena redacción en la resolución del práctico.\n",
    "\n",
    "- Identifiquen claramente a qué inciso corresponde cada comando y, cuando sea necesario, usen bloques de texto para detallar sus respuestas.\n",
    "\n",
    "- Importante: Todos los miembros del equipo deben haber hecho al menos un <i> commit </i> durante la realización del TP para asegurar que todos hayan aportado a su resolución."
   ]
  },
  {
   "cell_type": "markdown",
   "metadata": {
    "id": "dvfylNQLwSSh"
   },
   "source": [
    "## Parte I: Análisis de la base de hogares y cálculo de pobreza\n",
    "\n",
    "Ahora que ya se han familiarizado con la Encuesta Permanente de Hogares (EPH) y\n",
    "con la tabla de adulto equivalente, vamos a complejizar un poco la construcción del índice de pobreza. Lo calcularemos a nivel de hogares, con sus respectivos factores de expansión y realizaremos una limpieza de la base con mayor dedicación.\n",
    "A continuación, complementamos el trabajo hecho en el TP2 usando la encuesta a\n",
    "nivel hogares de la EPH."
   ]
  },
  {
   "cell_type": "markdown",
   "metadata": {
    "id": "Gdu7HpY7wSSi"
   },
   "source": [
    "#### 1. Exploren el diseño de registro de la base de hogar: a priori, ¿qué variables creen que pueden ser muy predictivas de pobreza y que sería muy útil incluir para perfeccionar el ejercicio del TP2?"
   ]
  },
  {
   "cell_type": "markdown",
   "metadata": {},
   "source": [
    "Respuesta: A la hora de perfeccionar la predicción de la pobreza del TP2, consideramos que las siguientes variables pueden ser relevantes:\n",
    "\n",
    "1. <b>Identificación</b>: retendríamos todas las variables, ya que nos permiten ubicar espacial y temporalmente a la pobreza.\n",
    "<br>\n",
    "\n",
    "2. <b>Características de la vivienda</b>: retendríamos las siguientes variables: IV1, IV2, V4, IV7, IV8, IV10, IV11, IV12_3, dado que identifican considiciones habitacionales subóptimas, que son claves determinantes de la pobreza siguiendo la lógica de Amartya Sen.\n",
    "<br>\n",
    "\n",
    "3. <b>Características habitacionales</b>: retendríamos las siguientes variables: II1, II3, II8, II9, V1, V2, V4, V5, V6, V12, V19_A, V19_B, IX_ToT, ITF, DECIFR, IPCF, DECCFR. Este conjunto de variables nos permite indagar sobre las dimensiones del hogar, el funcionamiento de sus baños y la fuente de los ingresos familiares lo que nos permite identificar a las personas más vulnerables."
   ]
  },
  {
   "cell_type": "markdown",
   "metadata": {},
   "source": [
    "#### 2. Descarguen la base de microdatos de la EPH correspondiente al primer trimestre de 2023 (la base de hogares se llama usu hogar T123.xls). Importen los datos de la encuesta de hogar y, al igual que en el TP2, conserven sólo las observaciones que corresponden a los aglomerados de Ciudad Autónoma de Buenos Aires o del Gran Buenos Aires."
   ]
  },
  {
   "cell_type": "code",
   "execution_count": 1,
   "metadata": {},
   "outputs": [],
   "source": [
    "import pandas as pd\n",
    "import numpy as np\n",
    "np.random.seed(201)\n",
    "import matplotlib.pyplot as plt\n",
    "import statsmodels.api as sm\n",
    "\n",
    "%matplotlib inline\n",
    "#from ISLP import load_data\n",
    "from sklearn.preprocessing import scale\n",
    "from sklearn.linear_model import Lasso, LassoCV, Ridge, RidgeCV\n",
    "from sklearn.metrics import mean_squared_error\n",
    "from sklearn import datasets\n",
    "from sklearn.linear_model import LogisticRegression\n",
    "from sklearn.model_selection import train_test_split\n",
    "from sklearn.metrics import confusion_matrix, ConfusionMatrixDisplay\n",
    "from sklearn.metrics import accuracy_score, recall_score\n",
    "from sklearn.metrics import roc_curve\n",
    "from sklearn.metrics import roc_auc_score\n",
    "from sklearn.metrics import RocCurveDisplay\n",
    "from sklearn.discriminant_analysis import LinearDiscriminantAnalysis\n",
    "from sklearn.neighbors import KNeighborsClassifier\n",
    "from sklearn.model_selection import KFold\n",
    "from tabulate import tabulate\n",
    "from sklearn.preprocessing import StandardScaler\n",
    "from sklearn.linear_model import LinearRegression\n",
    "import seaborn as sns\n",
    "import statistics"
   ]
  },
  {
   "cell_type": "code",
   "execution_count": 2,
   "metadata": {},
   "outputs": [],
   "source": [
    "# Cargamos la data\n",
    "data_ind = pd.read_excel(\"usu_individual_T123.xlsx\")\n",
    "data_hog = pd.read_excel(\"usu_hogar_T123.xlsx\")"
   ]
  },
  {
   "cell_type": "code",
   "execution_count": 3,
   "metadata": {},
   "outputs": [],
   "source": [
    "#Filtrar datos para el área de Buenos Aires tanto a nivel individual como a nivel hogares\n",
    "data_ind_baires = data_ind[data_ind['AGLOMERADO'].isin([32, 33])]\n",
    "data_hog_baires = data_hog[data_hog['AGLOMERADO'].isin([32, 33])]"
   ]
  },
  {
   "cell_type": "markdown",
   "metadata": {},
   "source": [
    "#### 3. Unan la tabla de la encuesta individual con la de la encuesta de hogar."
   ]
  },
  {
   "cell_type": "code",
   "execution_count": 4,
   "metadata": {},
   "outputs": [],
   "source": [
    "#Unimos los dos dataframes\n",
    "#Se incluirán todas las filas de ambos DataFrames, conservando todas las filas aunque no haya coincidencias en las columnas de unión\n",
    "data_unida = pd.merge(data_ind_baires, data_hog_baires, on=['CODUSU','NRO_HOGAR'], how='outer')\n",
    "\n",
    "# Seleccionar las columnas que tienen el sufijo a borrar\n",
    "variables_duplicadas = data_unida.filter(like='_y', axis=1)\n",
    "\n",
    "# Borrar las columnas seleccionadas del DataFrame\n",
    "data_unida = data_unida.drop(variables_duplicadas.columns, axis=1)"
   ]
  },
  {
   "cell_type": "markdown",
   "metadata": {},
   "source": [
    "#### 4. Generen sus propias funciones para limpiar la base de datos o, si deciden utilizar funciones existentes en paquetes como numpy y pandas, mencionen cúales usarán y de qué paquetes son."
   ]
  },
  {
   "cell_type": "code",
   "execution_count": 5,
   "metadata": {},
   "outputs": [
    {
     "name": "stdout",
     "output_type": "stream",
     "text": [
      "Index(['CH14', 'CH15_COD', 'CH16_COD', 'IMPUTA', 'PP03C', 'PP03D', 'PP3E_TOT',\n",
      "       'PP3F_TOT', 'PP03G', 'PP03H',\n",
      "       ...\n",
      "       'PDECINDR', 'IDECIFR_x', 'PDECIFR_x', 'IDECCFR_x', 'PDECCFR_x',\n",
      "       'IV1_ESP', 'IV3_ESP', 'IV7_ESP', 'II7_ESP', 'II8_ESP'],\n",
      "      dtype='object', length=107)\n"
     ]
    }
   ],
   "source": [
    "# Borramos todas las variables que tienen mas del 50% de missings\n",
    "proporcion_missing_values = data_unida.isnull().mean()\n",
    "\n",
    "# Filtra las columnas que tienen más del 50% de missing values\n",
    "#   todas las variables relacionadas los desocupados tienen mas del 70% de NaN\n",
    "#   todas las variables relacionadas a los ocupados tienen mas del 50% de NaN\n",
    "#   Tambien eliminamos las variables relacionadas a la categoría otros y CH14 que se refiere al último año que aprobó, que es redundante dado que ya tenemos nivel educativo (NIVEL_ED).\n",
    "columnas_50_missing = proporcion_missing_values[proporcion_missing_values > 0.5].index\n",
    "print(columnas_50_missing)\n",
    "# Eliminar las columnas seleccionadas del DataFrame\n",
    "data_unida_drop50 = data_unida.drop(columnas_50_missing, axis=1)\n",
    "\n",
    "data_unida_drop50['CH08'].fillna(9, inplace=True)\n",
    "# Sólo reemplazamos esta variable con NS/NR  ya que solo tiene un missing value.\n",
    "# P47T tiene 24 missing values pero es una variable de ingreso y luego será eliminada\n",
    "\n",
    "data_unida_drop50['CH08'] = data_unida_drop50['CH08'].astype('int64')"
   ]
  },
  {
   "cell_type": "markdown",
   "metadata": {},
   "source": [
    "#### 5. Limpien la base de datos tomando criterios que hagan sentido, tanto para el tratamiento de valores faltantes, de outliers, como así también decidan qué variables categóricas y strings usarán y transfórmenlas de forma que haga sentido para los ejercicios siguientes. Justifiquen sus decisiones."
   ]
  },
  {
   "cell_type": "code",
   "execution_count": 6,
   "metadata": {},
   "outputs": [
    {
     "data": {
      "text/html": [
       "<div>\n",
       "<style scoped>\n",
       "    .dataframe tbody tr th:only-of-type {\n",
       "        vertical-align: middle;\n",
       "    }\n",
       "\n",
       "    .dataframe tbody tr th {\n",
       "        vertical-align: top;\n",
       "    }\n",
       "\n",
       "    .dataframe thead th {\n",
       "        text-align: right;\n",
       "    }\n",
       "</style>\n",
       "<table border=\"1\" class=\"dataframe\">\n",
       "  <thead>\n",
       "    <tr style=\"text-align: right;\">\n",
       "      <th></th>\n",
       "      <th>count</th>\n",
       "      <th>mean</th>\n",
       "      <th>std</th>\n",
       "      <th>min</th>\n",
       "      <th>25%</th>\n",
       "      <th>50%</th>\n",
       "      <th>75%</th>\n",
       "      <th>max</th>\n",
       "    </tr>\n",
       "  </thead>\n",
       "  <tbody>\n",
       "    <tr>\n",
       "      <th>IV2</th>\n",
       "      <td>7619.0</td>\n",
       "      <td>3.075338</td>\n",
       "      <td>1.933210</td>\n",
       "      <td>1.0</td>\n",
       "      <td>2.0</td>\n",
       "      <td>3.0</td>\n",
       "      <td>4.0</td>\n",
       "      <td>99.0</td>\n",
       "    </tr>\n",
       "    <tr>\n",
       "      <th>II1</th>\n",
       "      <td>7619.0</td>\n",
       "      <td>3.056307</td>\n",
       "      <td>1.928454</td>\n",
       "      <td>0.0</td>\n",
       "      <td>2.0</td>\n",
       "      <td>3.0</td>\n",
       "      <td>4.0</td>\n",
       "      <td>99.0</td>\n",
       "    </tr>\n",
       "    <tr>\n",
       "      <th>IX_TOT</th>\n",
       "      <td>7619.0</td>\n",
       "      <td>3.696417</td>\n",
       "      <td>1.852985</td>\n",
       "      <td>1.0</td>\n",
       "      <td>2.0</td>\n",
       "      <td>4.0</td>\n",
       "      <td>5.0</td>\n",
       "      <td>13.0</td>\n",
       "    </tr>\n",
       "    <tr>\n",
       "      <th>IX_MEN10</th>\n",
       "      <td>7619.0</td>\n",
       "      <td>0.601391</td>\n",
       "      <td>0.947037</td>\n",
       "      <td>0.0</td>\n",
       "      <td>0.0</td>\n",
       "      <td>0.0</td>\n",
       "      <td>1.0</td>\n",
       "      <td>8.0</td>\n",
       "    </tr>\n",
       "    <tr>\n",
       "      <th>IX_MAYEQ10</th>\n",
       "      <td>7619.0</td>\n",
       "      <td>3.095026</td>\n",
       "      <td>1.441937</td>\n",
       "      <td>1.0</td>\n",
       "      <td>2.0</td>\n",
       "      <td>3.0</td>\n",
       "      <td>4.0</td>\n",
       "      <td>10.0</td>\n",
       "    </tr>\n",
       "    <tr>\n",
       "      <th>ITF_x</th>\n",
       "      <td>7619.0</td>\n",
       "      <td>138407.892637</td>\n",
       "      <td>334941.671900</td>\n",
       "      <td>0.0</td>\n",
       "      <td>0.0</td>\n",
       "      <td>75000.0</td>\n",
       "      <td>200000.0</td>\n",
       "      <td>10990000.0</td>\n",
       "    </tr>\n",
       "    <tr>\n",
       "      <th>CH06</th>\n",
       "      <td>7619.0</td>\n",
       "      <td>37.177845</td>\n",
       "      <td>22.738454</td>\n",
       "      <td>-1.0</td>\n",
       "      <td>18.0</td>\n",
       "      <td>35.0</td>\n",
       "      <td>55.0</td>\n",
       "      <td>99.0</td>\n",
       "    </tr>\n",
       "    <tr>\n",
       "      <th>CH12</th>\n",
       "      <td>7619.0</td>\n",
       "      <td>4.093451</td>\n",
       "      <td>2.942823</td>\n",
       "      <td>0.0</td>\n",
       "      <td>2.0</td>\n",
       "      <td>4.0</td>\n",
       "      <td>6.0</td>\n",
       "      <td>99.0</td>\n",
       "    </tr>\n",
       "    <tr>\n",
       "      <th>NIVEL_ED</th>\n",
       "      <td>7619.0</td>\n",
       "      <td>3.799842</td>\n",
       "      <td>1.746307</td>\n",
       "      <td>1.0</td>\n",
       "      <td>3.0</td>\n",
       "      <td>4.0</td>\n",
       "      <td>5.0</td>\n",
       "      <td>7.0</td>\n",
       "    </tr>\n",
       "  </tbody>\n",
       "</table>\n",
       "</div>"
      ],
      "text/plain": [
       "             count           mean            std  min   25%      50%  \\\n",
       "IV2         7619.0       3.075338       1.933210  1.0   2.0      3.0   \n",
       "II1         7619.0       3.056307       1.928454  0.0   2.0      3.0   \n",
       "IX_TOT      7619.0       3.696417       1.852985  1.0   2.0      4.0   \n",
       "IX_MEN10    7619.0       0.601391       0.947037  0.0   0.0      0.0   \n",
       "IX_MAYEQ10  7619.0       3.095026       1.441937  1.0   2.0      3.0   \n",
       "ITF_x       7619.0  138407.892637  334941.671900  0.0   0.0  75000.0   \n",
       "CH06        7619.0      37.177845      22.738454 -1.0  18.0     35.0   \n",
       "CH12        7619.0       4.093451       2.942823  0.0   2.0      4.0   \n",
       "NIVEL_ED    7619.0       3.799842       1.746307  1.0   3.0      4.0   \n",
       "\n",
       "                 75%         max  \n",
       "IV2              4.0        99.0  \n",
       "II1              4.0        99.0  \n",
       "IX_TOT           5.0        13.0  \n",
       "IX_MEN10         1.0         8.0  \n",
       "IX_MAYEQ10       4.0        10.0  \n",
       "ITF_x       200000.0  10990000.0  \n",
       "CH06            55.0        99.0  \n",
       "CH12             6.0        99.0  \n",
       "NIVEL_ED         5.0         7.0  "
      ]
     },
     "execution_count": 6,
     "metadata": {},
     "output_type": "execute_result"
    }
   ],
   "source": [
    "variables_a_verificar = ['IV2','II1','IX_TOT','IX_MEN10','IX_MAYEQ10','ITF_x','CH06','CH12','NIVEL_ED']\n",
    "# Vemos que CH6=Edad tiene valores negativos, por lo tanto se elimina esas observaciones\n",
    "# Así como las observaciones que tienen 99 en variables numericas discretas que claramente son missing; menos la edad puede ser 99\n",
    "data_unida_drop50[variables_a_verificar].describe().T"
   ]
  },
  {
   "cell_type": "code",
   "execution_count": 7,
   "metadata": {},
   "outputs": [
    {
     "data": {
      "text/plain": [
       "<Axes: xlabel='variable', ylabel='value'>"
      ]
     },
     "execution_count": 7,
     "metadata": {},
     "output_type": "execute_result"
    },
    {
     "data": {
      "image/png": "[encoded data removed]",
      "text/plain": [
       "<Figure size 570x327 with 1 Axes>"
      ]
     },
     "metadata": {},
     "output_type": "display_data"
    }
   ],
   "source": [
    "# Chequeamos variables numericas discretas con 99\n",
    "variables_a_verificar = ['IV2','II1','CH12']  # Lista de variables a verificar\n",
    "# Utiliza el método drop para eliminar las filas que cumplan con la condición\n",
    "data_unida_drop50 = data_unida_drop50.drop(data_unida_drop50[(data_unida_drop50[variables_a_verificar] == 99).any(axis=1)].index)\n",
    "\n",
    "sns.set(rc={'figure.figsize':(5.7,3.27)})\n",
    "sns.boxplot(x=\"variable\", y=\"value\", data=pd.melt(data_unida_drop50[variables_a_verificar]))"
   ]
  },
  {
   "cell_type": "code",
   "execution_count": 8,
   "metadata": {},
   "outputs": [],
   "source": [
    "# Obervaciones con valores negativos en variables que no corresponde\n",
    "variables_negativas = ['CH06']\n",
    "data_unida_drop50 = data_unida_drop50.drop(data_unida_drop50[(data_unida_drop50[variables_negativas] < 0).any(axis=1)].index)\n",
    "\n",
    "# Le damos formato de variables categóricas a las variables resepctivas con Sí, No, o categorías diferentes.\n",
    "\n",
    "variables_categoricas = ['IV1','IV2','IV3','IV4','IV5','IV6','IV7','IV8','IV9','IV10',\n",
    "                         'IV11','IV12_1','IV12_2','IV12_3','II3','II4_1','II4_2',\n",
    "                         'II4_3','II5','II6','II7','II8','II9','V1','V2','V21',\n",
    "                         'V22','V3','V4','V5','V6','V7','V8','V9','V10','V11',\n",
    "                         'V12','V13','V14','V15','V16','V17','V18','V19_A','V19_B',\n",
    "                         'CH03','CH04','CH07','CH08','CH09','CH10','CH11','CH13','CH15',\n",
    "                         'CH16','ESTADO','CAT_OCUP','CAT_INAC','PP02C1','PP02C2',\n",
    "                         'PP02C3','PP02C4','PP02C5','PP02C6','PP02C7','PP02C8',\n",
    "                         'PP02E','PP02H','PP02I']\n",
    "\n",
    "# Volvemos categóricas todas estas varaibles seleccionadas\n",
    "data_unida_drop50[variables_categoricas] = data_unida_drop50[variables_categoricas].astype('category')\n",
    "#data_unida_drop50[variables_categoricas].info()\n",
    "\n",
    "for columna in variables_categoricas:\n",
    "    dummies = pd.get_dummies(data_unida_drop50[variables_categoricas][columna], prefix=columna)\n",
    "    data_unida_drop50 = pd.concat([data_unida_drop50, dummies], axis=1)"
   ]
  },
  {
   "cell_type": "code",
   "execution_count": 9,
   "metadata": {},
   "outputs": [
    {
     "data": {
      "text/plain": [
       "<Axes: xlabel='variable', ylabel='value'>"
      ]
     },
     "execution_count": 9,
     "metadata": {},
     "output_type": "execute_result"
    },
    {
     "data": {
      "image/png": "[encoded data removed]",
      "text/plain": [
       "<Figure size 570x327 with 1 Axes>"
      ]
     },
     "metadata": {},
     "output_type": "display_data"
    }
   ],
   "source": [
    "# De las variables de ingreso solo vemos la variable de ingreso total porque después se eliminarán todas las variables relacionadas a ingresos\n",
    "# La variable de ingreso del hogar tiene outlier (10990000), que puede distorsionar todo. Solo eliminamos esas observaciones\n",
    "ingreso = ['ITF_x']  # Lista de variables a verificar\n",
    "data_unida_drop50 = data_unida_drop50.drop(data_unida_drop50[(data_unida_drop50[ingreso] >= 10990000).any(axis=1)].index)\n",
    "\n",
    "sns.set(rc={'figure.figsize':(5.7,3.27)})\n",
    "sns.boxplot(x=\"variable\", y=\"value\", data=pd.melt(data_unida_drop50[ingreso]))"
   ]
  },
  {
   "cell_type": "markdown",
   "metadata": {},
   "source": [
    "#### 6. Presenten estadísticas descriptivas de cinco variables de la encuesta de hogar que ustedes creen que pueden ser relevantes para predecir pobreza."
   ]
  },
  {
   "cell_type": "code",
   "execution_count": 10,
   "metadata": {},
   "outputs": [
    {
     "data": {
      "text/html": [
       "<div>\n",
       "<style scoped>\n",
       "    .dataframe tbody tr th:only-of-type {\n",
       "        vertical-align: middle;\n",
       "    }\n",
       "\n",
       "    .dataframe tbody tr th {\n",
       "        vertical-align: top;\n",
       "    }\n",
       "\n",
       "    .dataframe thead th {\n",
       "        text-align: right;\n",
       "    }\n",
       "</style>\n",
       "<table border=\"1\" class=\"dataframe\">\n",
       "  <thead>\n",
       "    <tr style=\"text-align: right;\">\n",
       "      <th></th>\n",
       "      <th>count</th>\n",
       "      <th>mean</th>\n",
       "      <th>std</th>\n",
       "      <th>min</th>\n",
       "      <th>25%</th>\n",
       "      <th>50%</th>\n",
       "      <th>75%</th>\n",
       "      <th>max</th>\n",
       "    </tr>\n",
       "  </thead>\n",
       "  <tbody>\n",
       "    <tr>\n",
       "      <th>CH06</th>\n",
       "      <td>7560.0</td>\n",
       "      <td>37.409921</td>\n",
       "      <td>22.604266</td>\n",
       "      <td>1.0</td>\n",
       "      <td>18.0</td>\n",
       "      <td>36.00</td>\n",
       "      <td>55.0</td>\n",
       "      <td>99.0</td>\n",
       "    </tr>\n",
       "    <tr>\n",
       "      <th>IX_TOT</th>\n",
       "      <td>7560.0</td>\n",
       "      <td>3.690079</td>\n",
       "      <td>1.853650</td>\n",
       "      <td>1.0</td>\n",
       "      <td>2.0</td>\n",
       "      <td>4.00</td>\n",
       "      <td>5.0</td>\n",
       "      <td>13.0</td>\n",
       "    </tr>\n",
       "    <tr>\n",
       "      <th>CH12</th>\n",
       "      <td>7560.0</td>\n",
       "      <td>4.067063</td>\n",
       "      <td>1.961361</td>\n",
       "      <td>0.0</td>\n",
       "      <td>2.0</td>\n",
       "      <td>4.00</td>\n",
       "      <td>6.0</td>\n",
       "      <td>9.0</td>\n",
       "    </tr>\n",
       "    <tr>\n",
       "      <th>IPCF_x</th>\n",
       "      <td>7560.0</td>\n",
       "      <td>46105.922823</td>\n",
       "      <td>73415.171857</td>\n",
       "      <td>0.0</td>\n",
       "      <td>0.0</td>\n",
       "      <td>20142.86</td>\n",
       "      <td>65000.0</td>\n",
       "      <td>980000.0</td>\n",
       "    </tr>\n",
       "    <tr>\n",
       "      <th>NIVEL_ED</th>\n",
       "      <td>7560.0</td>\n",
       "      <td>3.778836</td>\n",
       "      <td>1.733548</td>\n",
       "      <td>1.0</td>\n",
       "      <td>3.0</td>\n",
       "      <td>4.00</td>\n",
       "      <td>5.0</td>\n",
       "      <td>7.0</td>\n",
       "    </tr>\n",
       "  </tbody>\n",
       "</table>\n",
       "</div>"
      ],
      "text/plain": [
       "           count          mean           std  min   25%       50%      75%  \\\n",
       "CH06      7560.0     37.409921     22.604266  1.0  18.0     36.00     55.0   \n",
       "IX_TOT    7560.0      3.690079      1.853650  1.0   2.0      4.00      5.0   \n",
       "CH12      7560.0      4.067063      1.961361  0.0   2.0      4.00      6.0   \n",
       "IPCF_x    7560.0  46105.922823  73415.171857  0.0   0.0  20142.86  65000.0   \n",
       "NIVEL_ED  7560.0      3.778836      1.733548  1.0   3.0      4.00      5.0   \n",
       "\n",
       "               max  \n",
       "CH06          99.0  \n",
       "IX_TOT        13.0  \n",
       "CH12           9.0  \n",
       "IPCF_x    980000.0  \n",
       "NIVEL_ED       7.0  "
      ]
     },
     "execution_count": 10,
     "metadata": {},
     "output_type": "execute_result"
    }
   ],
   "source": [
    "#calculamos las estadísticas descriptivas para estas variables:\n",
    "\n",
    "#CH06: Años cumplidos\n",
    "#IX_TOT: Cantidad de miembros en el hogar\n",
    "#CH12: Nivel de estudios más alto que cursa o que cursó\n",
    "#IPCF_x: Monto del ingreso per cápita familiar\n",
    "#NIVEL_ED: Nivel educativo\n",
    "\n",
    "variables = ['CH06', 'IX_TOT', 'CH12', 'IPCF_x', 'NIVEL_ED']\n",
    "\n",
    "resultados = []\n",
    "for var in variables:\n",
    "    promedio = data_unida_drop50[var].mean()\n",
    "    mediana = data_unida_drop50[var].median()\n",
    "    desviacion_estandar = data_unida_drop50[var].std()\n",
    "    minimo = data_unida_drop50[var].min()\n",
    "    maximo = data_unida_drop50[var].max()\n",
    "    resultados.append([var, promedio, mediana, desviacion_estandar, minimo, maximo])\n",
    "\n",
    "data_unida_drop50[variables].describe().T"
   ]
  },
  {
   "cell_type": "markdown",
   "metadata": {},
   "source": [
    "<b>CH06</b>: Vemos que la edad promedio de nuestra muestra es de 37 años, con un considerable desvío estándar de 22 (esperable); el último cuartil arranca en los 55 años, con un dato máximo de 99 años.\n",
    "<br>\n",
    "\n",
    "<b>IX_TOT</b>: La cantidad de miembros en el hogar promedio de nuestra muestra es de 3, inclinándose ligeramente hacia 4; con un desvío estándar de 1.85, estos resultados son los esperados para un país como argentino. Cabe mencionar el máximo de 13 encontrado, muy alejado del resto.\n",
    "<br>\n",
    "\n",
    "<b>CH12</b>: Vemos que el nivel educativo en curso/cursado es en promedio el secundario (4.06). Con un desvío estándar de casi 2, podemos interpretar que la gran mayoría de la población completó el primario y terciario, los universitarios y posgrados universitarios siendo outliers.\n",
    "<br>\n",
    "\n",
    "<b>IPCF_x</b>: Para el Ingreso Per Cápita Familiar (IPCF) apreciamos que el promedio es de $46,000, con un desvío que supera los $73,000 sugiriendo una importante dispersión de los datos, y entonces desigualdad en los ingresos, hipótesis reforzada por los resultados de los cuartiles: del 2do cuartil al tercero hay una diferencia de casi $40,000 y encontramos un valor máximo de $980,000.\n",
    "<br>\n",
    "\n",
    "<b>NIVEL_ED</b>: En el nivel educativo, encontrao,s que el promedio de la población no alcanza el secundario completo (4). Además, vemos que la gran cantidad de nuestra muestra (hasta el 3er cuartil) solamente alcanza el superior universitario incompleto (5), sugiriendo que el universitario completo y los posgrados y doctorados son verdaderos outliers en Argentina.\n",
    "<br>\n"
   ]
  },
  {
   "cell_type": "markdown",
   "metadata": {},
   "source": [
    "#### 7. Repitan el inciso 1.2.f del TP2 para construir la columna <i>adulto_equiv</i> y la columna <i>ad_equiv_hogar</i> (pueden utilizar su código del TP2)."
   ]
  },
  {
   "cell_type": "markdown",
   "metadata": {},
   "source": [
    "Volvemos a emplear nuestro código del TP2."
   ]
  },
  {
   "cell_type": "code",
   "execution_count": 11,
   "metadata": {},
   "outputs": [],
   "source": [
    "#cargamos los datos y renombramos las columnas\n",
    "data_adult=pd.read_excel(\"tabla_adulto_equiv.xlsx\", header = 4, nrows=23, ) #formateamos para que se cargue correctamente la base.\n",
    "data_adult.rename({'Unnamed: 0':'Edad','Unnamed: 1':'Mujeres','Unnamed: 2':'Hombres'}, axis=1, inplace = True) # Renombramos las columnas."
   ]
  },
  {
   "cell_type": "code",
   "execution_count": 12,
   "metadata": {},
   "outputs": [],
   "source": [
    "def calcular_adulto_equiv(sexo, edad): # Esta función toma dos argumentos: el sexo y la edad. Mediante un \"if\" filtra primero por sexo y luego por edad, para devolvernos el valor de adulto equivalente correspondiente.\n",
    "    # para los hombres:\n",
    "    if sexo == 1:\n",
    "        if edad < 1:\n",
    "            return 0.35\n",
    "        elif edad == 1:\n",
    "            return 0.37\n",
    "        elif edad == 2:\n",
    "            return 0.46\n",
    "        elif edad == 3:\n",
    "            return 0.51\n",
    "        elif edad == 4:\n",
    "            return 0.55\n",
    "        elif edad == 5:\n",
    "            return 0.6\n",
    "        elif edad == 6:\n",
    "            return 0.64\n",
    "        elif edad == 7:\n",
    "            return 0.66\n",
    "        elif edad == 8:\n",
    "            return 0.68\n",
    "        elif edad == 9:\n",
    "            return 0.69\n",
    "        elif edad == 10:\n",
    "            return 0.79\n",
    "        elif edad == 11:\n",
    "            return 0.82\n",
    "        elif edad == 12:\n",
    "            return 0.85\n",
    "        elif edad == 13:\n",
    "            return 0.90\n",
    "        elif edad == 14:\n",
    "            return 0.96\n",
    "        elif edad == 15:\n",
    "            return 1\n",
    "        elif edad == 16:\n",
    "            return 1.03\n",
    "        elif edad == 17:\n",
    "            return 1.04\n",
    "        elif 18 <= edad <= 29:\n",
    "            return 1.02\n",
    "        elif 30 <= edad <= 45:\n",
    "            return 1.00\n",
    "        elif 46 <= edad <= 60:\n",
    "            return 1.00\n",
    "        elif 61 <= edad <= 75:\n",
    "            return 0.83\n",
    "        elif edad > 75:\n",
    "            return 0.74\n",
    "        else:\n",
    "            print(\"hay un problema\")\n",
    "\n",
    "    # Para las mujeres:\n",
    "    elif sexo == 2:\n",
    "        if edad < 1:\n",
    "            return 0.35\n",
    "        elif edad == 1:\n",
    "            return 0.37\n",
    "        elif edad == 2:\n",
    "            return 0.46\n",
    "        elif edad == 3:\n",
    "            return 0.51\n",
    "        elif edad == 4:\n",
    "            return 0.55\n",
    "        elif edad == 5:\n",
    "            return 0.6\n",
    "        elif edad == 6:\n",
    "            return 0.64\n",
    "        elif edad == 7:\n",
    "            return 0.66\n",
    "        elif edad == 8:\n",
    "            return 0.68\n",
    "        elif edad == 9:\n",
    "            return 0.69\n",
    "        elif edad == 10:\n",
    "            return 0.70\n",
    "        elif edad == 11:\n",
    "            return 0.72\n",
    "        elif edad == 12:\n",
    "            return 0.74\n",
    "        elif edad == 13:\n",
    "            return 0.76\n",
    "        elif edad == 14:\n",
    "            return 0.76\n",
    "        elif edad == 15:\n",
    "            return 0.77\n",
    "        elif edad == 16:\n",
    "            return 0.77\n",
    "        elif edad == 17:\n",
    "            return 0.77\n",
    "        elif 18 <= edad <= 29:\n",
    "            return 0.76\n",
    "        elif 30 <= edad <= 45:\n",
    "            return 0.77\n",
    "        elif 46 <= edad <= 60:\n",
    "            return 0.76\n",
    "        elif 61 <= edad <= 75:\n",
    "            return 0.67\n",
    "        elif edad > 75:\n",
    "            return 0.63\n",
    "        else:\n",
    "            print(\"hay un problema\")\n",
    "\n",
    "# Ahora aplicamos la función a nuestro dataframe, y guardamos el valor que nos arroja la función en una nueva columna.\n",
    "data_unida_drop50['adulto_equiv'] = data_unida_drop50.apply(lambda row: calcular_adulto_equiv(row['CH04'], row['CH06']), axis=1).copy()"
   ]
  },
  {
   "cell_type": "code",
   "execution_count": 13,
   "metadata": {},
   "outputs": [],
   "source": [
    "# Agrupamos los datos por \"CODUSU\" y \"NRO_HOGAR,\" \n",
    "# Calculamos la suma del valor del adulto equivalente en cada grupo de hogares\n",
    "# Agrega ese valor como una nueva columna\n",
    "data_unida_drop50[\"ad_equiv_hogar\"] = data_unida_drop50.groupby(['CODUSU', 'NRO_HOGAR'])[\"adulto_equiv\"].transform('sum')"
   ]
  },
  {
   "cell_type": "markdown",
   "metadata": {},
   "source": [
    "#### 8. Repitan el inciso 1.3 y 1.4 del TP2 para dividir la base en dos dataframes donde: uno conserve las personas que no reportaron ITF (dataframe llamado <i> respondieron </i>) y otro conserve a las personas que no reportaron ITF (llamado <i> norespondieron </i>). Además, agreguen a la base respondieron una columna llamada <i>ingreso_necesario</i> que sea el producto de la canasta básica por <i>ad_equiv_hogar</i>."
   ]
  },
  {
   "cell_type": "code",
   "execution_count": 14,
   "metadata": {},
   "outputs": [],
   "source": [
    "# Guardamos un dataframe con los datos de las personas que si contestaron.\n",
    "\n",
    "respondieron = data_unida_drop50[data_unida_drop50[\"ITF_x\"]!=0]\n",
    "\n",
    "# Guardamos en otro data frame las personas que no respondieron.\n",
    "\n",
    "norespondieron = data_unida_drop50[data_unida_drop50[\"ITF_x\"]==0]"
   ]
  },
  {
   "cell_type": "markdown",
   "metadata": {},
   "source": [
    "#### 9. Agreguen a la base respondieron una columna llamada pobre, que tome valor1 si el ITF es menor al ingreso necesario que necesita esa familia y 0 en caso contrario."
   ]
  },
  {
   "cell_type": "code",
   "execution_count": 15,
   "metadata": {},
   "outputs": [
    {
     "name": "stderr",
     "output_type": "stream",
     "text": [
      "C:\\Users\\cufa9\\AppData\\Local\\Temp\\ipykernel_5116\\1089956271.py:6: SettingWithCopyWarning: \n",
      "A value is trying to be set on a copy of a slice from a DataFrame.\n",
      "Try using .loc[row_indexer,col_indexer] = value instead\n",
      "\n",
      "See the caveats in the documentation: https://pandas.pydata.org/pandas-docs/stable/user_guide/indexing.html#returning-a-view-versus-a-copy\n",
      "  respondieron['ingreso_necesario'] = respondieron.apply(lambda row: CBT(row['ad_equiv_hogar']), axis=1).copy()\n",
      "C:\\Users\\cufa9\\AppData\\Local\\Temp\\ipykernel_5116\\1089956271.py:15: SettingWithCopyWarning: \n",
      "A value is trying to be set on a copy of a slice from a DataFrame.\n",
      "Try using .loc[row_indexer,col_indexer] = value instead\n",
      "\n",
      "See the caveats in the documentation: https://pandas.pydata.org/pandas-docs/stable/user_guide/indexing.html#returning-a-view-versus-a-copy\n",
      "  respondieron['pobre'] = respondieron.apply(lambda row: polenta(row['ITF_x'], row['ingreso_necesario']), axis=1)\n"
     ]
    },
    {
     "data": {
      "text/plain": [
       "0    2618\n",
       "1    1555\n",
       "Name: pobre, dtype: int64"
      ]
     },
     "execution_count": 15,
     "metadata": {},
     "output_type": "execute_result"
    }
   ],
   "source": [
    "#Calculamos un valor basado en el valor del adulto equivalente en el hogar.\n",
    "def CBT (ad_equiv_hogar):\n",
    "    return ad_equiv_hogar * 57371.05\n",
    "\n",
    "#Creamos una Nueva Columna llamada \"ingreso_necesario\":\n",
    "respondieron['ingreso_necesario'] = respondieron.apply(lambda row: CBT(row['ad_equiv_hogar']), axis=1).copy()\n",
    "\n",
    "#Esta función nos indica las personas pobres, cuyo ingreso es menor al necesario.\n",
    "def polenta(hornero, hornero_necesario):\n",
    "    if hornero < hornero_necesario:\n",
    "        return 1\n",
    "    else:\n",
    "        return 0\n",
    "\n",
    "respondieron['pobre'] = respondieron.apply(lambda row: polenta(row['ITF_x'], row['ingreso_necesario']), axis=1)\n",
    "\n",
    "respondieron['pobre'].value_counts()"
   ]
  },
  {
   "cell_type": "markdown",
   "metadata": {},
   "source": [
    "<b>1555</b> personas que respondieron son consideradas pobres, mientras que 2618 no lo son. \n",
    "<br>\n",
    "Esto significa un <b>37.26%</b> de pobreza para nuestra muestra."
   ]
  },
  {
   "cell_type": "markdown",
   "metadata": {},
   "source": [
    "#### 10. En el TP2 calcularon los individuos bajo la línea de pobreza. Sin embargo, cuando se habla de pobreza el número más utilizado es el de la tasa de hogares bajo la línea de pobreza. Para calcularlo, utilicen una sola observación por hogar y sumen el ponderador PONDIH que permite expandir la muestra de la EPH al total de la población que representa. ¿Cuál es la tasa de hogares bajo la línea de pobreza para el GBA? ¿Se asemeja al que reporta el  <a href=\"https://www.indec.gob.ar/uploads/informesdeprensa/eph_pobreza_09_2326FC0901C2.pdf\">INDEC en sus informes</a>?\n",
    "\n"
   ]
  },
  {
   "cell_type": "code",
   "execution_count": 16,
   "metadata": {},
   "outputs": [
    {
     "name": "stdout",
     "output_type": "stream",
     "text": [
      "       PONDERA_x\n",
      "pobre           \n",
      "0.0    58.705162\n",
      "1.0    41.294838\n"
     ]
    }
   ],
   "source": [
    "#Creamos base con solo una observacion por hogar\n",
    "respondieron_hogares=respondieron.groupby(['CODUSU','NRO_HOGAR']).agg({\"pobre\" : \"mean\",\"PONDERA_x\" : \"sum\"})\n",
    "#Sumamos cuanto hay de cada uno.\n",
    "sumas=respondieron_hogares.groupby(\"pobre\").PONDERA_x.sum().to_frame()\n",
    "respondieron_porcentajes = sumas.apply(lambda x:\n",
    "                                                 100 * x / float(x.sum()))\n",
    "print(respondieron_porcentajes)"
   ]
  },
  {
   "cell_type": "markdown",
   "metadata": {},
   "source": [
    "Los resultados muestran que, a nivel de hogares, el <b>58.71%</b> de los hogares no se consideran \"pobres\", mientras que el <b>41.29%</b> de los hogares se consideran \"pobres\".\n",
    "<br>\n",
    "\n",
    "El INDEC en su informe, señala que el porcentaje de hogares bajo la linea de pobreza para el GBA es del <b>30.3%</b>, mucho menor a lo que nosotros calculamos."
   ]
  },
  {
   "cell_type": "markdown",
   "metadata": {},
   "source": [
    "\n",
    "## Parte II: Construcción de funciones"
   ]
  },
  {
   "cell_type": "markdown",
   "metadata": {},
   "source": [
    "El objetivo de esta parte del trabajo es generar código que sea flexible y que esté modularizado (en funciones bien documentadas con docstrings). De esta forma, evitarán repetir código y podrán utilizarlo en distintos escenarios (como por ejemplo la Parte III de este TP y sus proyectos personales a futuro)."
   ]
  },
  {
   "cell_type": "markdown",
   "metadata": {},
   "source": [
    "#### 1. Escriban una función, llamada <i>evalua_metodo</i>, que reciba como argumentos un modelo y los datos de entrenamiento y prueba (<i>X train </i>, <i> y train </i> , <i>X test</i>, <i>y test</i>). La funcioón debe ajustar el modelo con los datos de entrenamiento y calcular las métricas que considere necesarias para esta problemática (de mínima, deben reportar la matriz de confusión, las curvas ROC y los valores de AUC y de accuracy score de cada método). El output de la función debe ser una colección con las métricas evaluadas."
   ]
  },
  {
   "cell_type": "code",
   "execution_count": 17,
   "metadata": {},
   "outputs": [],
   "source": [
    "def evalua_metodo(X_train, X_test, Y_train, Y_test, modelo, landa=1):\n",
    "    '''\n",
    "    La función ajusta el modelo con los datos de entrenamiento (x_train, y_train) y\n",
    "    calcular la matriz de confusión, las curvas ROC, los valores de\n",
    "    AUC asociados y el Accuracy score de cada método). \n",
    "    \n",
    "    Input:\n",
    "       \n",
    "        x_train: Datos de entrenamiento (características) - Conjunto de entrenamiento.\n",
    "        x_test: Datos de prueba (características) - Conjunto de prueba.\n",
    "        y_train: Etiquetas de entrenamiento - Valores objetivo del conjunto de entrenamiento.\n",
    "        y_test: Etiquetas de prueba - Valores objetivo del conjunto de prueba.\n",
    "        modelo: Modelo de clasificación a evaluar (por ejemplo, LogisticRegression, LinearDiscriminantAnalysis, KNeighborsClassifier).\n",
    "        landa=1: Parámetro lambda (lambda regularización) para ajustar el modelo (por defecto, 1).\n",
    "\n",
    "    Output:\n",
    "\n",
    "        df_metrics: DataFrame que contiene la matriz de confusión, la precisión (Accuracy), el área bajo la curva ROC (AUC) \n",
    "        y el error cuadrático medio (ECM).\n",
    "    '''\n",
    "    \n",
    "    if modelo== LogisticRegression:\n",
    "        y = modelo(max_iter=10000, C=1/landa).fit(X_train, Y_train)\n",
    "    elif modelo==LinearDiscriminantAnalysis:\n",
    "        y = modelo().fit(X_train, Y_train)\n",
    "    elif modelo== KNeighborsClassifier:\n",
    "        y = modelo(n_neighbors=3).fit(X_train, Y_train)\n",
    "    else:\n",
    "        y = modelo.fit(X_train, Y_train)\n",
    "\n",
    "    Y_pred = y.predict(X_test)\n",
    "    Y_pred_score = y.predict_proba(X_test)[:,1]\n",
    "\n",
    "    matriz_confusion = confusion_matrix(Y_test, Y_pred)\n",
    "    auc = roc_auc_score(Y_test, Y_pred_score)\n",
    "    fpr, tpr, thresholds = roc_curve(Y_test, Y_pred_score)\n",
    "    np.set_printoptions(suppress = True)\n",
    "    plt.figure(figsize=(6, 4))\n",
    "    plt.plot(fpr, tpr, color='purple', lw=2, label='Area = {:.3f}'.format(auc))\n",
    "    plt.plot([0, 1], [0, 1], color='gray', lw=2, linestyle='--')\n",
    "    plt.xlim([0.0, 1.0])\n",
    "    plt.ylim([0.0, 1.05])\n",
    "    plt.xlabel('Tasa de falsos positivos')\n",
    "    plt.ylabel('Tasa de verdaderos positivos')\n",
    "    plt.title('Receiver Operating Characteristic (ROC)')\n",
    "    plt.legend(loc='lower right')\n",
    "\n",
    "    accuracy = accuracy_score(Y_test, Y_pred)\n",
    "\n",
    "    ecm = mean_squared_error(Y_test, Y_pred)\n",
    "\n",
    "    df_metrics = pd.DataFrame({'modelo': [modelo], 'matriz de confusion': [matriz_confusion] ,'accuracy': ['{:.3f}'.format(accuracy)], 'auc':['{:.3f}'.format(auc)], 'ecm':[ecm]})\n",
    "\n",
    "    return df_metrics"
   ]
  },
  {
   "cell_type": "markdown",
   "metadata": {},
   "source": [
    "#### 2. Escriban una función, llamada <i>cross_validation</i>, que realice validación cruzada con <i>k</i> iteraciones (<i>k</i>-fold CV), llamando a la función del inciso anterior en cada una, pero para las <i>k</i> distintas particiones. La función debe recibir como argumentos el modelo, el valor de <i>k</i> y un dataset (es decir, sólo X e y). Pueden ayudarse con la función  <a href=\"https://scikit-learn.org/stable/modules/generated/sklearn.model_selection.KFold.html\">Kfold</a> para generar las particiones necesarias."
   ]
  },
  {
   "cell_type": "code",
   "execution_count": 18,
   "metadata": {},
   "outputs": [],
   "source": [
    "def cross_validation(modelo, k, X, y):\n",
    "    '''\n",
    "    Esta función aplica la validación cruzada con k iteraciones (k-fold CV), llamando a la función\n",
    "    \"evalua_metodo\" cada iteración, pero para las k distintas particiones. \n",
    "    \n",
    " Inputs:\n",
    "\n",
    "    modelo: Modelo de clasificación a evaluar (por ejemplo, LogisticRegression, LinearDiscriminantAnalysis, KNeighborsClassifier).\n",
    "    k: Número de divisiones en la validación cruzada (k-fold CV).\n",
    "    X: Conjunto de datos de características de entrada.\n",
    "    y: Etiquetas de salida correspondientes al conjunto de datos de entrada.\n",
    "\n",
    "    Outputs:\n",
    "\n",
    "    final_ecm: Error cuadrático medio promedio a través de las k iteraciones de validación cruzada.\n",
    "    ecm: Lista que contiene el error cuadrático medio de cada iteración de validación cruzada.\n",
    "    \n",
    "    '''\n",
    "    sc = StandardScaler()\n",
    "\n",
    "    kf = KFold(n_splits=k, shuffle=True, random_state=201)\n",
    "\n",
    "    ecm = []\n",
    "\n",
    "    for i, (train_index, test_index) in enumerate(kf.split(X)):\n",
    "        X_train, X_test = X.iloc[list(train_index)], X.iloc[list(test_index)]\n",
    "        Y_train, Y_test = y.iloc[list(train_index)], y.iloc[list(test_index)]\n",
    "\n",
    "        # Estandarizamos las observaciones de entrenamiento\n",
    "        X_train_transformed = pd.DataFrame(sc.fit_transform(X_train),index=X_train.index, columns=X_train.columns)\n",
    "        # Estandarizamos las observaciones de test\n",
    "        X_test_transformed = pd.DataFrame(sc.transform(X_test),index=X_test.index, columns=X_test.columns)\n",
    "\n",
    "        ecm2 = evalua_metodo(X_train_transformed, X_test_transformed, Y_train, Y_test, modelo) #Aplicamos la función evalua_metodo\n",
    "        ecm3 = ecm2['ecm'][0]\n",
    "        ecm.append(ecm3) # Agregamos los resultados\n",
    "\n",
    "    final_ecm = statistics.mean(ecm) # Computamos las medias.\n",
    "\n",
    "    return final_ecm, ecm"
   ]
  },
  {
   "cell_type": "markdown",
   "metadata": {},
   "source": [
    "#### 3. Escriban una función, llamada <i>evalua_config</i> que reciba una lista de configuraciones de hiperparámetros (1) (los distintos valores a probar como hiperparámetros podrían codificarse en diccionarios de Python) y utilizando la función <i>cross_validation</i> obtenga el error (2) promedio para cada configuración. Finalmente, la función debe devolver la configuración que genere menor error (3).\n",
    "\n",
    "Notas: \n",
    "\n",
    "(1) En <i>scikit-learn</i>, muchos métodos llaman penalty al método de regularización y <i>C</i> a la inversa del hiperparámetro <i>λ</i>.\n",
    "\n",
    "(2) Utilicen la medición del error que prefieran. Una opción sería el Error Cuadrático Medio\n",
    "\n",
    "(3) Consejo: cuanto más genérica construyan la función, luego podrá ser utilizada en más situaciones. Por ahora, la usaremos solo para buscar el <i>λ</i> óptimo cuando utilicemos regularización."
   ]
  },
  {
   "cell_type": "code",
   "execution_count": 19,
   "metadata": {},
   "outputs": [],
   "source": [
    "def evalua_config(landa, k, X, y, l1_ratio=1):\n",
    "    '''\n",
    "    Esta función reciba una lista con las configuración de lambda y de las particiones.\n",
    "    Luego, utilizando la función cross_validation, obtiene el Error Promedio para cada configuración.\n",
    "    \n",
    "    Inputs:\n",
    "\n",
    "    landa: Lista de valores de lambda (parámetro de regularización) a evaluar.\n",
    "    k: Número de divisiones en la validación cruzada (k-fold CV) para evaluar cada configuración.\n",
    "    X: Conjunto de datos de características de entrada.\n",
    "    y: Etiquetas de salida correspondientes al conjunto de datos de entrada.\n",
    "    l1_ratio: Parámetro l1_ratio que controla el mix de penalizaciones L1 y L2 (por defecto, LASSO (1).\n",
    "\n",
    "    Outputs:\n",
    "\n",
    "    minimo_ecm_mean: El valor mínimo del error cuadrático medio promedio encontrado en las configuraciones.\n",
    "    valor_lambda: El valor de lambda que corresponde al mínimo error cuadrático medio promedio.\n",
    "    ret: DataFrame que contiene los resultados de ECM y ECM promedio para cada configuración de lambda.\n",
    "\n",
    "    \n",
    "    Detalles: \n",
    "    Cuando l1_ratio=1: se aplica el método Lasso.\n",
    "    Cuando l1_ratio=0: se aplica el métodoRidge.\n",
    "    Si 0 <l1_ratio< 1: se realiza una combinación de ambos (Elastic net).\n",
    "    '''\n",
    "    ret=pd.DataFrame(columns=[\"ecm\",\"ecm_mean\",\"parametro\"])\n",
    "\n",
    "    for i in range(len(landa)):\n",
    "        clf_en_LR = LogisticRegression(C=1/landa[i], penalty=\"elasticnet\",\n",
    "                                       solver=\"saga\", l1_ratio=l1_ratio, tol=0.01, random_state=201) # Dadas las características del método \"solver\" aplicamos una semilla para obtener resultados consistentes.\n",
    "        ecm_mean  = cross_validation(clf_en_LR, k, X, y)[0]\n",
    "        ecm       = cross_validation(clf_en_LR, k, X, y)[1]\n",
    "        ret.loc[i]= [ecm, ecm_mean, landa[i]] # coef\n",
    "\n",
    "    indice_minimo_ecm = ret['ecm_mean'].idxmin()\n",
    "    valor_lambda = ret.at[indice_minimo_ecm, 'parametro']\n",
    "    minimo_ecm_mean = ret['ecm_mean'].min()\n",
    "\n",
    "    return minimo_ecm_mean, valor_lambda, ret"
   ]
  },
  {
   "cell_type": "markdown",
   "metadata": {},
   "source": [
    "#### 4. Escriban una función llamada <i>evalua_multiples_metodos</i> que les permita implementar los siguiente métodos con los hiperparámetros que ustedes elijan. Para la regresión logística, asegúrense de que esta función utilice su función <i>evalua_config</i> para optimizar el <i>λ</i> de la regularización. Finalmente, el output de la función debe ser una tabla donde las columnas sean las métricas que hayan evaluado (las que hayan incluido en la función <i>evalua_metodo</i>) y las filas sean los modelos (con su configuración de hiperparámetros asociada) que hayan corrido. Asegúrense de que la tabla incluya una columna con nombre del modelo y el valor de los hiperparámetros/configuración: (4)\n",
    "\n",
    "- Regresión logística\n",
    "- Análisis de discriminante lineal\n",
    "- KNN\n",
    "\n",
    "Notas: \n",
    "\n",
    "(4) Pista: para la regresión logística, cuando incluyan regularización observen que deberán correr la función evalua metodo dos veces. Una para optimizar los hiperparámetros (con un set de datos para train y otro para validación) y otra para obtener las métricas con el hiperparámetro óptimo (con un set de datos para train y otro para test)."
   ]
  },
  {
   "cell_type": "code",
   "execution_count": 20,
   "metadata": {},
   "outputs": [],
   "source": [
    "def evalua_multiples_metodos(k, landa_max, X, y): #X_train, X_test , Y_train, Y_test\n",
    "    '''\n",
    "    Esta última función permite implementar los métodos de regresión logística, K vecinos más cercanos\n",
    "    y Análisis Discriminante, con los hiperparámetros elegidos.\n",
    "    \n",
    "    Para la regresión logística, utilizamos la función \"evalua_config\" para optimizar el λ \n",
    "    de la regularización. \n",
    "    \n",
    "    El output de la función es un dataframe donde las columnas son las métricas de la función\n",
    "    \"evalua_metodo\" y las filas corresponden a los modelos (con su configuración de hiperparámetros\n",
    "    asociada).\n",
    "    \n",
    "    Inputs:\n",
    "\n",
    "    k: Número de divisiones en la validación cruzada (k-fold CV) para evaluar cada modelo.\n",
    "    landa_max: Valor máximo de lambda (parámetro de regularización) a considerar.\n",
    "    X: Conjunto de datos de características de entrada.\n",
    "    y: Etiquetas de salida correspondientes al conjunto de datos de entrada.\n",
    "\n",
    "    Outputs:\n",
    "\n",
    "    matriz: DataFrame que contiene las métricas de rendimiento para cada modelo y configuración de\n",
    "    hiperparámetros.\n",
    "    '''\n",
    "\n",
    "\n",
    "    modelos = ['Regresion logistica','K vecinos mas cercanos','Analisis discriminante']\n",
    "\n",
    "    landas= np.arange(0.01, landa_max,10).tolist()\n",
    "\n",
    "    matriz = pd.DataFrame(columns=[\"Modelo\", \"Hiperparametro\",\"Matriz de confusión\",\"Precisión\", \"AUC\", \"ECM\"])\n",
    "\n",
    "    for modelo in modelos:\n",
    "        if modelo == 'Regresion logistica':\n",
    "            landa_optimo = evalua_config(landas, k , X, y)[1] #hiperparametro lambda\n",
    "            X_train, X_test, Y_train, Y_test = train_test_split(X, y, test_size=0.3, random_state=201)\n",
    "            metricas_log= evalua_metodo(X_train, X_test , Y_train, Y_test , LogisticRegression, landa=landa_optimo)\n",
    "            results = [modelo, landa_optimo, metricas_log['matriz de confusion'][0], metricas_log['accuracy'][0], metricas_log['auc'][0], metricas_log['ecm'][0]]\n",
    "            matriz.loc[len(matriz)] = results\n",
    "\n",
    "        elif modelo =='K vecinos mas cercanos':\n",
    "            X_train, X_test, Y_train, Y_test = train_test_split(X, y, test_size=0.3, random_state=201)\n",
    "            metricas_knn = evalua_metodo(X_train, X_test , Y_train, Y_test, KNeighborsClassifier)\n",
    "            results = [modelo, 3          , metricas_knn['matriz de confusion'][0],metricas_knn['accuracy'][0], metricas_knn['auc'][0], metricas_knn['ecm'][0]]\n",
    "            matriz.loc[len(matriz)] = results\n",
    "\n",
    "        elif modelo == 'Analisis discriminante':\n",
    "            X_train, X_test, Y_train, Y_test = train_test_split(X, y, test_size=0.3, random_state=201)\n",
    "            metricas_lda = evalua_metodo(X_train, X_test , Y_train, Y_test, LinearDiscriminantAnalysis)\n",
    "            results = [modelo, 1        , metricas_lda['matriz de confusion'][0], metricas_lda['accuracy'][0], metricas_lda['auc'][0], metricas_lda['ecm'][0]]\n",
    "            matriz.loc[len(matriz)] = results\n",
    "\n",
    "    return(matriz)"
   ]
  }
 ],
 "metadata": {
  "anaconda-cloud": {},
  "colab": {
   "provenance": []
  },
  "kernelspec": {
   "display_name": "Python 3 (ipykernel)",
   "language": "python",
   "name": "python3"
  },
  "language_info": {
   "codemirror_mode": {
    "name": "ipython",
    "version": 3
   },
   "file_extension": ".py",
   "mimetype": "text/x-python",
   "name": "python",
   "nbconvert_exporter": "python",
   "pygments_lexer": "ipython3",
   "version": "3.11.4"
  }
 },
 "nbformat": 4,
 "nbformat_minor": 1
}
